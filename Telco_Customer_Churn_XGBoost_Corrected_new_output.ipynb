{
 "cells": [
  {
   "cell_type": "markdown",
   "id": "c926d47e",
   "metadata": {},
   "source": [
    "## Telco Customer Churn Prediction with XGBoost\n",
    "\n",
    "This notebook demonstrates how to build a customer churn prediction model using the XGBoost algorithm. The dataset used is the Telco Customer Churn dataset, which contains information about telecom customers and whether they churned (stopped using the service)."
   ]
  },
  {
   "cell_type": "markdown",
   "id": "41b120c3",
   "metadata": {},
   "source": [
    "### 1. Data Loading and Exploration\n",
    "\n",
    "First, we load the dataset and explore its structure and content."
   ]
  },
  {
   "cell_type": "code",
   "execution_count": 1,
   "id": "83c9f2cc",
   "metadata": {
    "execution": {
     "iopub.execute_input": "2025-05-11T11:40:31.151732Z",
     "iopub.status.busy": "2025-05-11T11:40:31.151172Z",
     "iopub.status.idle": "2025-05-11T11:40:32.055744Z",
     "shell.execute_reply": "2025-05-11T11:40:32.054523Z"
    }
   },
   "outputs": [
    {
     "name": "stdout",
     "output_type": "stream",
     "text": [
      "   customerID  gender  SeniorCitizen Partner Dependents  tenure PhoneService  \\\n",
      "0           1  Female              0     Yes         No       1           No   \n",
      "1           2    Male              0      No         No      34          Yes   \n",
      "2           3    Male              0      No         No       2          Yes   \n",
      "3           4    Male              0      No         No      45           No   \n",
      "4           5  Female              0      No         No       2          Yes   \n",
      "\n",
      "      MultipleLines InternetService OnlineSecurity  ... DeviceProtection  \\\n",
      "0  No phone service             DSL             No  ...               No   \n",
      "1                No             DSL            Yes  ...              Yes   \n",
      "2                No             DSL            Yes  ...               No   \n",
      "3  No phone service             DSL            Yes  ...              Yes   \n",
      "4                No     Fiber optic             No  ...               No   \n",
      "\n",
      "  TechSupport StreamingTV StreamingMovies        Contract PaperlessBilling  \\\n",
      "0          No          No              No  Month-to-month              Yes   \n",
      "1          No          No              No        One year               No   \n",
      "2          No          No              No  Month-to-month              Yes   \n",
      "3         Yes          No              No        One year               No   \n",
      "4          No          No              No  Month-to-month              Yes   \n",
      "\n",
      "               PaymentMethod MonthlyCharges  TotalCharges  Churn  \n",
      "0           Electronic check          29.85         29.85     No  \n",
      "1               Mailed check          56.95       1889.50     No  \n",
      "2               Mailed check          53.85        108.15    Yes  \n",
      "3  Bank transfer (automatic)          42.30       1840.75     No  \n",
      "4           Electronic check          70.70        151.65    Yes  \n",
      "\n",
      "[5 rows x 21 columns]\n",
      "<class 'pandas.core.frame.DataFrame'>\n",
      "RangeIndex: 7043 entries, 0 to 7042\n",
      "Data columns (total 21 columns):\n",
      " #   Column            Non-Null Count  Dtype  \n",
      "---  ------            --------------  -----  \n",
      " 0   customerID        7043 non-null   int64  \n",
      " 1   gender            7043 non-null   object \n",
      " 2   SeniorCitizen     7043 non-null   int64  \n",
      " 3   Partner           7043 non-null   object \n",
      " 4   Dependents        7043 non-null   object \n",
      " 5   tenure            7043 non-null   int64  \n",
      " 6   PhoneService      7043 non-null   object \n",
      " 7   MultipleLines     7043 non-null   object \n",
      " 8   InternetService   7043 non-null   object \n",
      " 9   OnlineSecurity    7043 non-null   object \n",
      " 10  OnlineBackup      7043 non-null   object \n",
      " 11  DeviceProtection  7043 non-null   object \n",
      " 12  TechSupport       7043 non-null   object \n",
      " 13  StreamingTV       7043 non-null   object \n",
      " 14  StreamingMovies   7043 non-null   object \n",
      " 15  Contract          7043 non-null   object \n",
      " 16  PaperlessBilling  7043 non-null   object \n",
      " 17  PaymentMethod     7043 non-null   object \n",
      " 18  MonthlyCharges    7043 non-null   float64\n",
      " 19  TotalCharges      7043 non-null   float64\n",
      " 20  Churn             7043 non-null   object \n",
      "dtypes: float64(2), int64(3), object(16)\n",
      "memory usage: 1.1+ MB\n",
      "None\n",
      "        customerID  SeniorCitizen       tenure  MonthlyCharges  TotalCharges\n",
      "count  7043.000000    7043.000000  7043.000000     7043.000000   7043.000000\n",
      "mean   3522.000000       0.162147    32.371149       64.761692   2279.734304\n",
      "std    2033.283305       0.368612    24.559481       30.090047   2266.794470\n",
      "min       1.000000       0.000000     0.000000       18.250000      0.000000\n",
      "25%    1761.500000       0.000000     9.000000       35.500000    398.550000\n",
      "50%    3522.000000       0.000000    29.000000       70.350000   1394.550000\n",
      "75%    5282.500000       0.000000    55.000000       89.850000   3786.600000\n",
      "max    7043.000000       1.000000    72.000000      118.750000   8684.800000\n",
      "customerID          0\n",
      "gender              0\n",
      "SeniorCitizen       0\n",
      "Partner             0\n",
      "Dependents          0\n",
      "tenure              0\n",
      "PhoneService        0\n",
      "MultipleLines       0\n",
      "InternetService     0\n",
      "OnlineSecurity      0\n",
      "OnlineBackup        0\n",
      "DeviceProtection    0\n",
      "TechSupport         0\n",
      "StreamingTV         0\n",
      "StreamingMovies     0\n",
      "Contract            0\n",
      "PaperlessBilling    0\n",
      "PaymentMethod       0\n",
      "MonthlyCharges      0\n",
      "TotalCharges        0\n",
      "Churn               0\n",
      "dtype: int64\n"
     ]
    }
   ],
   "source": [
    "import pandas as pd\n",
    "\n",
    "# Load the dataset\n",
    "df = pd.read_csv(\"WA_Fn-UseC_-Telco-Customer-Churn.csv\")\n",
    "\n",
    "# Display the first few rows of the dataframe\n",
    "print(df.head())\n",
    "\n",
    "# Get information about the columns and their data types\n",
    "print(df.info())\n",
    "\n",
    "# Get descriptive statistics of the numerical columns\n",
    "print(df.describe())\n",
    "\n",
    "# Check for missing values\n",
    "print(df.isnull().sum())"
   ]
  },
  {
   "cell_type": "markdown",
   "id": "25cc1b1b",
   "metadata": {},
   "source": [
    "### 2. Data Preprocessing\n",
    "\n",
    "Next, we preprocess the data. This includes handling missing values, encoding categorical features, and scaling numerical features."
   ]
  },
  {
   "cell_type": "code",
   "execution_count": 2,
   "id": "d465e29f",
   "metadata": {
    "execution": {
     "iopub.execute_input": "2025-05-11T11:40:32.060251Z",
     "iopub.status.busy": "2025-05-11T11:40:32.059916Z",
     "iopub.status.idle": "2025-05-11T11:40:33.295079Z",
     "shell.execute_reply": "2025-05-11T11:40:33.293771Z"
    }
   },
   "outputs": [
    {
     "name": "stderr",
     "output_type": "stream",
     "text": [
      "/tmp/ipykernel_7898/3278479791.py:4: FutureWarning: A value is trying to be set on a copy of a DataFrame or Series through chained assignment using an inplace method.\n",
      "The behavior will change in pandas 3.0. This inplace method will never work because the intermediate object on which we are setting values always behaves as a copy.\n",
      "\n",
      "For example, when doing 'df[col].method(value, inplace=True)', try using 'df.method({col: value}, inplace=True)' or df[col] = df[col].method(value) instead, to perform the operation inplace on the original object.\n",
      "\n",
      "\n",
      "  df[\"TotalCharges\"].fillna(df[\"TotalCharges\"].mean(), inplace=True)\n"
     ]
    }
   ],
   "source": [
    "# Handle missing values (if any)\n",
    "# For example, fill missing \"TotalCharges\" with the mean\n",
    "df[\"TotalCharges\"] = pd.to_numeric(df[\"TotalCharges\"], errors=\"coerce\") # Convert to numeric, coercing errors\n",
    "df[\"TotalCharges\"].fillna(df[\"TotalCharges\"].mean(), inplace=True)\n",
    "\n",
    "# Convert categorical columns to numerical using one-hot encoding\n",
    "categorical_cols = df.select_dtypes(include=\"object\").columns\n",
    "df = pd.get_dummies(df, columns=categorical_cols, drop_first=True)\n",
    "\n",
    "# Separate features (X) and target (y)\n",
    "# Ensure \"Churn_Yes\" is the correct target column name after one-hot encoding. If your original \"Churn\" column was Yes/No, \n",
    "# and drop_first=True, then \"Churn_Yes\" would be the column. If it was 0/1, adjust accordingly.\n",
    "# It\"s also possible that the target column is simply \"Churn\" if it was already binary and not part of get_dummies.\n",
    "# We will assume \"Churn_Yes\" for now based on the previous script. Verify this if errors occur.\n",
    "if \"Churn_Yes\" in df.columns:\n",
    "    X = df.drop(\"Churn_Yes\", axis=1)\n",
    "    y = df[\"Churn_Yes\"]\n",
    "elif \"Churn\" in df.columns: # Fallback if \"Churn_Yes\" is not present and original Churn was binary\n",
    "    X = df.drop(\"Churn\", axis=1)\n",
    "    y = df[\"Churn\"]\n",
    "else:\n",
    "    # Attempt to find a likely target column if \"Churn_Yes\" or \"Churn\" is not directly found after dummification\n",
    "    possible_target_cols = [col for col in df.columns if \"Churn\" in col]\n",
    "    if possible_target_cols:\n",
    "        target_col_name = possible_target_cols[0] # Take the first match\n",
    "        print(f\"Warning: Target column 'Churn_Yes' or 'Churn' not found. Using {target_col_name} as target.\")\n",
    "        X = df.drop(target_col_name, axis=1)\n",
    "        y = df[target_col_name]\n",
    "    else:\n",
    "        raise KeyError(\"Target column related to 'Churn' not found in dataframe after preprocessing. Please check column names.\")\n",
    "\n",
    "\n",
    "# Split data into training and testing sets\n",
    "from sklearn.model_selection import train_test_split\n",
    "X_train, X_test, y_train, y_test = train_test_split(X, y, test_size=0.2, random_state=42)\n",
    "\n",
    "# Scale numerical features\n",
    "from sklearn.preprocessing import StandardScaler\n",
    "scaler = StandardScaler()\n",
    "# Identify numerical columns to scale (excluding binary/dummy variables created by get_dummies)\n",
    "# This step might need adjustment based on the actual column names after one-hot encoding\n",
    "numerical_cols = [col for col in X_train.columns if X_train[col].dtype in [\"int64\", \"float64\"] and X_train[col].nunique() > 2] \n",
    "if numerical_cols:\n",
    "    X_train[numerical_cols] = scaler.fit_transform(X_train[numerical_cols])\n",
    "    X_test[numerical_cols] = scaler.transform(X_test[numerical_cols])"
   ]
  },
  {
   "cell_type": "markdown",
   "id": "f29b74d0",
   "metadata": {},
   "source": [
    "### 3. Model Training and Prediction\n",
    "\n",
    "Now, we train the XGBoost model and make predictions."
   ]
  },
  {
   "cell_type": "code",
   "execution_count": 3,
   "id": "37012732",
   "metadata": {
    "execution": {
     "iopub.execute_input": "2025-05-11T11:40:33.299631Z",
     "iopub.status.busy": "2025-05-11T11:40:33.299033Z",
     "iopub.status.idle": "2025-05-11T11:40:33.740409Z",
     "shell.execute_reply": "2025-05-11T11:40:33.739604Z"
    }
   },
   "outputs": [],
   "source": [
    "import xgboost as xgb\n",
    "\n",
    "# Initialize and train the XGBoost classifier\n",
    "# For newer versions of XGBoost, use_label_encoder=False is deprecated and handled automatically.\n",
    "# If you encounter a warning, you can remove it. If \"use_label_encoder\" causes an error, remove it.\n",
    "model = xgb.XGBClassifier(objective=\"binary:logistic\", eval_metric=\"logloss\", use_label_encoder=False if int(xgb.__version__.split(\".\")[0]) < 2 else None)\n",
    "model.fit(X_train, y_train)\n",
    "\n",
    "# Make predictions on the test set\n",
    "y_pred = model.predict(X_test)"
   ]
  },
  {
   "cell_type": "markdown",
   "id": "202c4bbe",
   "metadata": {},
   "source": [
    "### 4. Model Evaluation\n",
    "\n",
    "Finally, we evaluate the model\"s performance."
   ]
  },
  {
   "cell_type": "code",
   "execution_count": 4,
   "id": "55d9b317",
   "metadata": {
    "execution": {
     "iopub.execute_input": "2025-05-11T11:40:33.745159Z",
     "iopub.status.busy": "2025-05-11T11:40:33.743875Z",
     "iopub.status.idle": "2025-05-11T11:40:33.768424Z",
     "shell.execute_reply": "2025-05-11T11:40:33.767651Z"
    }
   },
   "outputs": [
    {
     "name": "stdout",
     "output_type": "stream",
     "text": [
      "Accuracy: 0.80\n",
      "\n",
      "Classification Report:\n",
      "              precision    recall  f1-score   support\n",
      "\n",
      "       False       0.84      0.89      0.87      1036\n",
      "        True       0.64      0.53      0.58       373\n",
      "\n",
      "    accuracy                           0.80      1409\n",
      "   macro avg       0.74      0.71      0.72      1409\n",
      "weighted avg       0.79      0.80      0.79      1409\n",
      "\n",
      "\n",
      "Confusion Matrix:\n",
      "[[926 110]\n",
      " [177 196]]\n"
     ]
    }
   ],
   "source": [
    "from sklearn.metrics import accuracy_score, classification_report, confusion_matrix\n",
    "\n",
    "# Calculate accuracy\n",
    "accuracy = accuracy_score(y_test, y_pred)\n",
    "print(f\"Accuracy: {accuracy:.2f}\")\n",
    "\n",
    "# Display classification report\n",
    "print(\"\\nClassification Report:\")\n",
    "print(classification_report(y_test, y_pred))\n",
    "\n",
    "# Display confusion matrix\n",
    "print(\"\\nConfusion Matrix:\")\n",
    "print(confusion_matrix(y_test, y_pred))"
   ]
  },
  {
   "cell_type": "markdown",
   "id": "b405a413",
   "metadata": {},
   "source": [
    "This notebook provides a basic framework. You may need to adjust the preprocessing steps, hyperparameter tuning, and model evaluation based on your specific requirements and findings."
   ]
  }
 ],
 "metadata": {
  "kernelspec": {
   "display_name": "Python 3",
   "language": "python",
   "name": "python3"
  },
  "language_info": {
   "codemirror_mode": {
    "name": "ipython",
    "version": 3
   },
   "file_extension": ".py",
   "mimetype": "text/x-python",
   "name": "python",
   "nbconvert_exporter": "python",
   "pygments_lexer": "ipython3",
   "version": "3.11.0rc1"
  }
 },
 "nbformat": 4,
 "nbformat_minor": 5
}
